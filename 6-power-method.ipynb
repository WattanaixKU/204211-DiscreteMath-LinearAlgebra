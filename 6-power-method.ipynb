{
 "cells": [
  {
   "cell_type": "markdown",
   "metadata": {},
   "source": [
    "## Power method\n",
    "\n",
    "ในแบบฝึกหัดนี้ เราจะเรียนกระบวนการที่เรียกว่า **Power method** ในการหา eigenvector (และ eigenvalue)"
   ]
  },
  {
   "cell_type": "markdown",
   "metadata": {},
   "source": [
    "พิจารณากราฟสำหรับการทำ random walk ต่อไปนี้\n",
    "\n",
    "    (1)-------(2)-------(3)-\\\n",
    "     |         |\\            \\\n",
    "     |         | \\----(6)----(7)\n",
    "     |         |             /\n",
    "    (4)-------(5)-----------/\n",
    "\n",
    "ให้เขียน transition matrix $A$ ที่แทนการเดินแบบสุ่มในกราฟนี้  ด้านล่าง matrix ถูกประกาศบางส่วนแล้ว"
   ]
  },
  {
   "cell_type": "code",
   "execution_count": 6,
   "metadata": {},
   "outputs": [],
   "source": [
    "#\n",
    "# งานของคุณ\n",
    "#\n",
    "A = [[1/2, 1/4,   0, 1/4,   0,   0,   0],\n",
    "     [  0,   0,   0,   0,   0,   0,   0],\n",
    "     [  0,   0,   0,   0,   0,   0,   0],\n",
    "     [  0,   0,   0,   0,   0,   0,   0],\n",
    "     [  0,   0,   0,   0,   0,   0,   0],\n",
    "     [  0,   0,   0,   0,   0,   0,   0],\n",
    "     [  0,   0,   0,   0,   0,   0,   0]]"
   ]
  },
  {
   "cell_type": "markdown",
   "metadata": {},
   "source": [
    "ถ้าจำได้ ในการคำนวณความน่าจะเป็นของ randomly ในห้องเราจะต้องคูณ row vector เข้ากับ matrix เราจะปรับให้เป็นการคูณ matrix เข้ากับเวกเตอร์\n",
    "\n",
    "เพื่อความสะดวก (ไม่ให้ต้องแก้ `mvmult` มาก เราจะ transpose matrix $A$ เพื่อใช้ในการทำงานต่อ)  ให้เขียนฟังก์ชัน `transpose` ด้านล่าง"
   ]
  },
  {
   "cell_type": "code",
   "execution_count": 7,
   "metadata": {},
   "outputs": [],
   "source": [
    "#\n",
    "# งานของคุณ\n",
    "#\n",
    "def transpose(M):\n",
    "    return M"
   ]
  },
  {
   "cell_type": "markdown",
   "metadata": {},
   "source": [
    "ทดสอบด้านล่าง ผลลัพธ์ควรเป็น\n",
    "\n",
    "    [[1, 4, 7], [2, 5, 8], [3, 6, 9]]"
   ]
  },
  {
   "cell_type": "code",
   "execution_count": 8,
   "metadata": {},
   "outputs": [
    {
     "name": "stdout",
     "output_type": "stream",
     "text": [
      "[[1, 2, 3], [4, 5, 6], [7, 8, 9]]\n"
     ]
    }
   ],
   "source": [
    "print(transpose([[1,2,3],[4,5,6],[7,8,9]]))"
   ]
  },
  {
   "cell_type": "markdown",
   "metadata": {},
   "source": [
    "เราจะใช้ B ในการคำนวณแทน A"
   ]
  },
  {
   "cell_type": "code",
   "execution_count": 11,
   "metadata": {},
   "outputs": [],
   "source": [
    "B = transpose(A)"
   ]
  },
  {
   "cell_type": "markdown",
   "metadata": {},
   "source": [
    "ให้คัดลอก `mvmult` มาจาก notebook ก่อนหน้า"
   ]
  },
  {
   "cell_type": "code",
   "execution_count": 10,
   "metadata": {},
   "outputs": [],
   "source": [
    "#\n",
    "# งานของคุณ\n",
    "#\n",
    "def mvmult(M,x):\n",
    "    return x"
   ]
  },
  {
   "cell_type": "markdown",
   "metadata": {},
   "source": [
    "### ความน่าจะเป็นที่จะอยู่ในแต่ละจุดในขั้นถัดไป\n",
    "\n",
    "เราจะทดลองคำนวณว่าเมตริกซ์ $B$ และ `mvmult` ของเราใช้งานได้ถูกต้องหรือไม่\n",
    "\n",
    "ให้กำหนดเวกเตอร์ `p` ด้านล่างให้แทนเวกเตอร์ความน่าจะเป็นที่เราจะอยู่ตำแหน่งที่ 3"
   ]
  },
  {
   "cell_type": "code",
   "execution_count": 12,
   "metadata": {},
   "outputs": [],
   "source": [
    "#\n",
    "# งานของคุณ\n",
    "#\n",
    "p = [0, 0, 0, 0, 0, 0, 0]"
   ]
  },
  {
   "cell_type": "markdown",
   "metadata": {},
   "source": [
    "เราจะคำนวณว่าเมื่อ random walk 1 รอบแล้วความน่าจะเป็นจะเปลี่ยนไปอย่างไร\n",
    "\n",
    "ก่อนจะรันโค้ดด้านล่างให้ลองคิดก่อนว่าผลลัพธ์ความเป็นเท่าใด"
   ]
  },
  {
   "cell_type": "code",
   "execution_count": 14,
   "metadata": {},
   "outputs": [
    {
     "name": "stdout",
     "output_type": "stream",
     "text": [
      "[0, 0, 0, 0, 0, 0, 0]\n"
     ]
    }
   ],
   "source": [
    "print(mvmult(B, p))"
   ]
  },
  {
   "cell_type": "markdown",
   "metadata": {},
   "source": [
    "ให้ทดลองโดยเปลี่ยนจุดเริ่มต้นเป็นตำแหน่งอื่น ๆ ทดลองว่าคำตอบถูกต้องหรือไม่"
   ]
  },
  {
   "cell_type": "markdown",
   "metadata": {},
   "source": [
    "### Power iteration\n",
    "\n",
    "เราจะคำนวณหา eigenvector โดยการนำเวกเตอร์เริ่มต้นมาคูณซ้ำ ๆ ด้วย $B$ (เสมือนการเดิน random walk ไปนานๆ)\n",
    "\n",
    "ที่โค้ดด้านล่างให้ทดลองดังนี้\n",
    "\n",
    "* เปลี่ยน `count` เป็นค่าต่าง ๆ ดูผลลัพธ์  ค่า `count` ควรเป็นเท่าใด ค่าถึงจะเริ่ม converge\n",
    "* เปลี่ยน `start` vector เพื่อเปลี่ยนจุดเริ่มต้น  ผลลัพธ์ปลายทางเหมือนกันหรือไม่  ทดลองเปลี่ยนค่า `count` ด้วย  จุดเริ่มต้นที่แตกต่างกันมีผลต่อความเร็วในการ converge หรือไม่"
   ]
  },
  {
   "cell_type": "code",
   "execution_count": 15,
   "metadata": {},
   "outputs": [
    {
     "name": "stdout",
     "output_type": "stream",
     "text": [
      "[1, 0, 0, 0, 0, 0, 0]\n"
     ]
    }
   ],
   "source": [
    "start = [1, 0, 0, 0, 0, 0, 0]\n",
    "\n",
    "count = 1\n",
    "p = start\n",
    "for i in range(count):\n",
    "    p = mvmult(B, p)\n",
    "print(p)"
   ]
  }
 ],
 "metadata": {
  "kernelspec": {
   "display_name": "Python 3",
   "language": "python",
   "name": "python3"
  },
  "language_info": {
   "codemirror_mode": {
    "name": "ipython",
    "version": 3
   },
   "file_extension": ".py",
   "mimetype": "text/x-python",
   "name": "python",
   "nbconvert_exporter": "python",
   "pygments_lexer": "ipython3",
   "version": "3.6.5"
  }
 },
 "nbformat": 4,
 "nbformat_minor": 2
}
