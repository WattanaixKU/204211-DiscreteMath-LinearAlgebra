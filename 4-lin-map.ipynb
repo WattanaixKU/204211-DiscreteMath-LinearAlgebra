{
 "cells": [
  {
   "cell_type": "markdown",
   "metadata": {},
   "source": [
    "## Linear map\n",
    "เราจะทดลองเกี่ยวกับการแปลงแบบเชิงเส้น"
   ]
  },
  {
   "cell_type": "markdown",
   "metadata": {},
   "source": [
    "### ข้อมูลทดสอบ\n",
    "เราจะโหลดเซตของเวกเตอร์ในสองมิติเพื่อทดสอบ ข้อมูลนี้อยู่ในไฟล์ `face.txt`"
   ]
  },
  {
   "cell_type": "code",
   "execution_count": 1,
   "metadata": {},
   "outputs": [],
   "source": [
    "def load_face():\n",
    "    vectors = []\n",
    "    for line in open('face.txt').readlines():\n",
    "        items = line.strip().split()\n",
    "        vectors.append([float(items[0]), float(items[1])])\n",
    "    return vectors\n",
    "\n",
    "fvectors = load_face()"
   ]
  },
  {
   "cell_type": "code",
   "execution_count": 2,
   "metadata": {},
   "outputs": [],
   "source": [
    "# ในกิจกรรมนี้เราจะ plot แบบ scatter เป็นหลัก\n",
    "import matplotlib.pyplot as plt\n",
    "\n",
    "def plot_scatter(vectors):\n",
    "    vectors = list(vectors)\n",
    "    xx = [v[0] for v in vectors]\n",
    "    yy = [v[1] for v in vectors]\n",
    "    xmin, xmax = min(xx), max(xx)\n",
    "    ymin, ymax = min(yy), max(yy)\n",
    "    \n",
    "    if ymin > 0: ymin = 0\n",
    "    if ymax < 0: ymax = 0\n",
    "    if xmin > 0:xmin = 0\n",
    "    if xmax < 0:xmax = 0\n",
    "    \n",
    "    plt.axis([xmin - 1, xmax + 1, ymin - 1, ymax + 1])\n",
    "    plt.scatter(xx,yy)\n",
    "    plt.show()"
   ]
  },
  {
   "cell_type": "code",
   "execution_count": 3,
   "metadata": {},
   "outputs": [
    {
     "data": {
      "image/png": "[encoded data removed]",
      "text/plain": [
       "<matplotlib.figure.Figure at 0x109568c88>"
      ]
     },
     "metadata": {
      "needs_background": "light"
     },
     "output_type": "display_data"
    }
   ],
   "source": [
    "plot_scatter(fvectors)"
   ]
  },
  {
   "cell_type": "markdown",
   "metadata": {},
   "source": [
    "### ทบทวนฟังก์ชัน `map`"
   ]
  },
  {
   "cell_type": "markdown",
   "metadata": {},
   "source": [
    "เราจะเขียนฟังก์ชัน `swapcor` ที่สลับพิกัดแกน x และ y"
   ]
  },
  {
   "cell_type": "code",
   "execution_count": 10,
   "metadata": {},
   "outputs": [],
   "source": [
    "def swapcor(v):\n",
    "    return [v[1],v[0]]"
   ]
  },
  {
   "cell_type": "code",
   "execution_count": 11,
   "metadata": {},
   "outputs": [
    {
     "data": {
      "image/png": "[encoded data removed]",
      "text/plain": [
       "<matplotlib.figure.Figure at 0x10b0337b8>"
      ]
     },
     "metadata": {
      "needs_background": "light"
     },
     "output_type": "display_data"
    }
   ],
   "source": [
    "# ด้านล่างเป็นตัวอย่างการใช้ฟังก์ชัน map ในการ apply function f ในสมาชิกทุกตัวใน fvectors\n",
    "\n",
    "plot_scatter(list(map(swapcor, fvectors)))"
   ]
  },
  {
   "cell_type": "markdown",
   "metadata": {},
   "source": [
    "### >>> งาน 1 เขียนฟังก์ชันคูณเมตริกซ์ด้วยเวกเตอร์\n",
    "\n",
    "ให้เขียนฟังก์ชัน `mvmult` ที่รับเมตริกซ์ `mat` ขนาด 2x2 และเวกเตอร์ `v` ที่มีขนาด 2 และคืนผลคูณเป็นเวกเตอร์ขนาด 2"
   ]
  },
  {
   "cell_type": "code",
   "execution_count": 12,
   "metadata": {},
   "outputs": [],
   "source": [
    "def mvmult(mat,v):\n",
    "    return [mat[0][0]*v[0]+mat[0][1]*v[1], mat[1][0]*v[0]+mat[1][1]*v[1]]"
   ]
  },
  {
   "cell_type": "markdown",
   "metadata": {},
   "source": [
    "ทดสอบโดยกดคำนวณค่าด้านล่างแล้วเทียบคำตอบ ผลลัพธ์ที่ได้ควรจะเป็น\n",
    "\n",
    "    [10, 20]\n",
    "    [58, 80]\n",
    "    [-10, -56]\n",
    "    [660, 1530]"
   ]
  },
  {
   "cell_type": "code",
   "execution_count": 13,
   "metadata": {},
   "outputs": [
    {
     "name": "stdout",
     "output_type": "stream",
     "text": [
      "[10, 20]\n",
      "[58, 80]\n",
      "[-10, -56]\n",
      "[660, 1530]\n"
     ]
    }
   ],
   "source": [
    "print(mvmult([[1, 0],\n",
    "              [0, 1]],\n",
    "             [10, 20]))\n",
    "print(mvmult([[2, 1],\n",
    "              [1, 2]],\n",
    "             [12, 34]))\n",
    "print(mvmult([[2, -1],\n",
    "              [1, -2]],\n",
    "             [12, 34]))\n",
    "print(mvmult([[21, 12],\n",
    "              [-34, 57]],\n",
    "             [12, 34]))"
   ]
  },
  {
   "cell_type": "markdown",
   "metadata": {},
   "source": [
    "### ทดสอบการแปลงโดยการคูณเมตริกซ์\n",
    "\n",
    "เราจะทดลองการแปลงด้วยการคูณเวกเตอร์ด้วยเมตริกซ์\n",
    "\n",
    "    [[2, 1],\n",
    "     [0, 1]]\n",
    "     \n",
    "ทดลองกดรัน"
   ]
  },
  {
   "cell_type": "code",
   "execution_count": 16,
   "metadata": {
    "scrolled": true
   },
   "outputs": [
    {
     "data": {
      "image/png": "[encoded data removed]",
      "text/plain": [
       "<matplotlib.figure.Figure at 0x10b24a2b0>"
      ]
     },
     "metadata": {
      "needs_background": "light"
     },
     "output_type": "display_data"
    }
   ],
   "source": [
    "A0 = [[2, -1],\n",
    "              [1, -2]]\n",
    "def test_map(v):\n",
    "    return mvmult(A0,v)\n",
    "\n",
    "# ทดลอง plot ได้สองแบบ \n",
    "# แบบแรก - plot เฉพาะเวกเตอร์หลังแปลงแล้ว\n",
    "# plot_scatter(list(map(test_map, fvectors)))\n",
    "# แบบที่สอง - plot เวกเตอร์ก่อนและหลังแปลง\n",
    "# plot_scatter(fvectors + list(map(test_map, fvectors)))\n",
    "# อย่าลืมสังเกตว่าในการ plot จะมีการปรับสเกลของแกนให้อัตโนมัติ บางทีรูปที่เห็นไม่เปลี่ยนแปลงเวกเตอร์เปลี่ยนไปแล้วก็ได้\n",
    "\n",
    "plot_scatter(list(map(test_map, fvectors)))"
   ]
  },
  {
   "cell_type": "markdown",
   "metadata": {},
   "source": [
    "### >>> งาน 2 ทดลองเปลี่ยนเมตริกซ์ต่าง ๆ\n",
    "\n",
    "ให้ทดลองเปลียนเมตริกซ์ `A0` ด้านบนเป็นเมตริกซ์ 2x2 ต่าง ๆ แล้วทดลองสังเกตการเปลี่ยนแปลง"
   ]
  },
  {
   "cell_type": "markdown",
   "metadata": {},
   "source": [
    "### >>> งาน 3 เขียนเมตริกซ์ที่ทำงานเหมือน `swapcor`\n",
    "\n",
    "ให้เขียนเมตริกซ์ `A1` ที่เมื่อคูณกับเวกเตอร์แล้วทำงานเหมือน `swapcor` นั่นคือสลับแกน"
   ]
  },
  {
   "cell_type": "code",
   "execution_count": 23,
   "metadata": {},
   "outputs": [],
   "source": [
    "# define A1 here\n",
    "A1 = [[0, 1],\n",
    "      [1, 0]]"
   ]
  },
  {
   "cell_type": "code",
   "execution_count": 24,
   "metadata": {},
   "outputs": [
    {
     "data": {
      "image/png": "[encoded data removed]",
      "text/plain": [
       "<matplotlib.figure.Figure at 0x10b485400>"
      ]
     },
     "metadata": {
      "needs_background": "light"
     },
     "output_type": "display_data"
    }
   ],
   "source": [
    "# test A1 here\n",
    "def new_swapcor(v):\n",
    "    return mvmult(A1,v)\n",
    "\n",
    "plot_scatter(list(map(new_swapcor, fvectors)))"
   ]
  },
  {
   "cell_type": "markdown",
   "metadata": {},
   "source": [
    "### >>> งาน 4 หมุนรูป\n",
    "\n",
    "เราจะพิจารณาการหมุนเวกเตอร์ (rotate) ไปในทิศทางทวนเข็มนาฬิกา 15 องศา  เราต้องการหาเมตริกซ์ `B` ที่ทำงานดังกล่าว \n",
    "\n",
    "วิธีการหาเมตริกซ์ดังกล่าว เราจะพิจารณาการหมุนแยกทีละแกนดังนี้\n",
    "\n",
    "**ขั้นที่ 1** พิจารณาเวกเตอร์ `[1, 0]` (เวกเตอร์หนึ่งหน่วยที่ขนานกับแกน x)  ถ้าเราหมุนทวนเข็มนาฬิกา 15 องศา เวกเตอร์นี้จะเปลี่ยนไปที่จุดใด  ให้ระบุเป็นเวกเตอร์ `v1` ด้านล่าง"
   ]
  },
  {
   "cell_type": "code",
   "execution_count": 25,
   "metadata": {
    "scrolled": true
   },
   "outputs": [],
   "source": [
    "import math\n",
    "v1 = [math.cos(math.radians(15)),math.sin(math.radians(15))]"
   ]
  },
  {
   "cell_type": "markdown",
   "metadata": {},
   "source": [
    "**ขั้นที่ 2** พิจารณาเวกเตอร์ `[0, 1]` (เวกเตอร์หนึ่งหน่วยที่ขนานกับแกน y)  ถ้าเราหมุนทวนเข็มนาฬิกา 15 องศา เวกเตอร์นี้จะเปลี่ยนไปที่จุดใด  ให้ระบุเป็นเวกเตอร์ `v2` ด้านล่าง"
   ]
  },
  {
   "cell_type": "code",
   "execution_count": 26,
   "metadata": {},
   "outputs": [],
   "source": [
    "v2 = [math.cos(math.radians(105)),math.sin(math.radians(105))]"
   ]
  },
  {
   "cell_type": "markdown",
   "metadata": {},
   "source": [
    "เราจะใช้ใช้การตีความว่าการคูณเมตริกซ์ด้วยเวกเตอร์คือ linear combination ของคอลัมน์\n",
    "\n",
    "ถ้าให้เวกเตอร์ $p$ แทนจุด (แทนด้วยเวกเตอร์ `[x, y]`) เราสามารถพิจารณาการคูณ $p$ ด้วยเมตริกซ์ $A$ ที่ประกอบไปด้วยสองคอลัมน์ $V_1$ และ $V_2$ ได้ดังนี้\n",
    "\n",
    "$    Ap\n",
    "    =\n",
    "    \\left[\n",
    "      \\begin{array}{c|c}\n",
    "        & \\\\\n",
    "        V_1 & V_2 \\\\\n",
    "        &\n",
    "      \\end{array}\n",
    "      \\right]\n",
    "    \\begin{bmatrix}\n",
    "      x \\\\\n",
    "      y\n",
    "    \\end{bmatrix}\n",
    "    =\n",
    "    \\left[\n",
    "      \\begin{array}{c|c}\n",
    "        & \\\\\n",
    "        V_1 & V_2 \\\\\n",
    "        &\n",
    "      \\end{array}\n",
    "      \\right]\n",
    "    \\begin{bmatrix}\n",
    "      x \\\\\n",
    "      0\n",
    "    \\end{bmatrix}\n",
    "    +\n",
    "    \\left[\n",
    "      \\begin{array}{c|c}\n",
    "        & \\\\\n",
    "        V_1 & V_2 \\\\\n",
    "        &\n",
    "      \\end{array}\n",
    "      \\right]\n",
    "    \\begin{bmatrix}\n",
    "      0 \\\\\n",
    "      y\n",
    "    \\end{bmatrix}\n",
    "    =\n",
    "    \\left[\n",
    "      \\begin{array}{c}\n",
    "        \\\\\n",
    "        V_1 \\\\\n",
    "        \\\\\n",
    "      \\end{array}\n",
    "      \\right]\n",
    "    x\n",
    "    +\n",
    "    \\left[\n",
    "      \\begin{array}{c}\n",
    "        \\\\\n",
    "        V_2 \\\\\n",
    "        \\\\\n",
    "      \\end{array}\n",
    "      \\right]\n",
    "    y\n",
    "$\n",
    "\n",
    "จากแนวคิดดังกล่าว เราจึงนิยามเมตริกซ์ `R` สำหรับหมุนได้ดังนี้"
   ]
  },
  {
   "cell_type": "code",
   "execution_count": 27,
   "metadata": {},
   "outputs": [],
   "source": [
    "R = [[v1[0], v2[0]],\n",
    "     [v1[1], v2[1]]]"
   ]
  },
  {
   "cell_type": "markdown",
   "metadata": {},
   "source": [
    "ให้ทดลองหมุนด้วยเมตริกซ์ดังกล่าว ตรวจสอบด้วยว่าการหมุนถูกต้อง"
   ]
  },
  {
   "cell_type": "code",
   "execution_count": 31,
   "metadata": {},
   "outputs": [
    {
     "data": {
      "image/png": "[encoded data removed]",
      "text/plain": [
       "<matplotlib.figure.Figure at 0x10b67db00>"
      ]
     },
     "metadata": {
      "needs_background": "light"
     },
     "output_type": "display_data"
    }
   ],
   "source": [
    "# ทดลองหมุน\n",
    "def rotate(v):\n",
    "    return mvmult(R,v)\n",
    "\n",
    "plot_scatter(list(map(rotate, fvectors)))"
   ]
  },
  {
   "cell_type": "markdown",
   "metadata": {},
   "source": [
    "### >>> งาน 5 หมุนทั่วไป\n",
    "\n",
    "ให้เขียนฟังก์ชัน `vrotate` สำหรับหมุนทั่วไปด้านล่างให้สมบูรณ์  ฟังก์ชันจะรับมุมเป็นเรเดียน และหมุนตามเข็มนาฬิกา\n",
    "\n",
    "ให้แก้เฉพาะบรรทัดที่ระบุเมตริกซ์ R1 เท่านั้น   หมายเหตุใน python ถ้าต้องการใช้ฟังก์ชันคณิตศาสตร์ เช่น sin, cos ต้อง import math ก่อน"
   ]
  },
  {
   "cell_type": "code",
   "execution_count": 35,
   "metadata": {},
   "outputs": [],
   "source": [
    "import math\n",
    "\n",
    "def vrotate(v, angle):\n",
    "    R1 = [[math.cos(angle),math.cos(angle+(math.pi/2))],\n",
    "          [math.sin(angle),math.sin(angle+(math.pi/2))]]\n",
    "    return mvmult(R1,v)"
   ]
  },
  {
   "cell_type": "markdown",
   "metadata": {},
   "source": [
    "ทดลองฟังก์ชันที่เขียน โดยแก้ฟังก์ชัน `test_vrotate` ด้านล่างให้ลองหมุนด้วยมุมต่าง ๆ "
   ]
  },
  {
   "cell_type": "code",
   "execution_count": 41,
   "metadata": {},
   "outputs": [
    {
     "data": {
      "image/png": "[encoded data removed]",
      "text/plain": [
       "<matplotlib.figure.Figure at 0x10afb0160>"
      ]
     },
     "metadata": {
      "needs_background": "light"
     },
     "output_type": "display_data"
    }
   ],
   "source": [
    "# ทดลองหมุน\n",
    "def test_vrotate(v):\n",
    "    return vrotate(v, math.pi*0.25)\n",
    "\n",
    "plot_scatter(list(map(test_vrotate, fvectors)))"
   ]
  },
  {
   "cell_type": "code",
   "execution_count": null,
   "metadata": {},
   "outputs": [],
   "source": []
  }
 ],
 "metadata": {
  "kernelspec": {
   "display_name": "Python 3",
   "language": "python",
   "name": "python3"
  },
  "language_info": {
   "codemirror_mode": {
    "name": "ipython",
    "version": 3
   },
   "file_extension": ".py",
   "mimetype": "text/x-python",
   "name": "python",
   "nbconvert_exporter": "python",
   "pygments_lexer": "ipython3",
   "version": "3.6.5"
  }
 },
 "nbformat": 4,
 "nbformat_minor": 2
}
