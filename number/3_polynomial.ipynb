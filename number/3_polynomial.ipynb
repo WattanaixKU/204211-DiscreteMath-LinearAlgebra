{
  "nbformat": 4,
  "nbformat_minor": 0,
  "metadata": {
    "colab": {
      "name": "3-polynomial.ipynb",
      "version": "0.3.2",
      "provenance": []
    },
    "kernelspec": {
      "display_name": "Python 3",
      "language": "python",
      "name": "python3"
    }
  },
  "cells": [
    {
      "metadata": {
        "id": "kXUvhkCUquD3",
        "colab_type": "text"
      },
      "cell_type": "markdown",
      "source": [
        "## Polynomial\n",
        "\n",
        "ในแบบฝึกหัดนี้เราจะทดลองเกี่ยวกับ polynomial และ encoding\n",
        "\n",
        "ให้นำฟังก์ชันด้านล่างมาจากแบบฝึกหัดก่อน"
      ]
    },
    {
      "metadata": {
        "id": "GUueDfWPquD5",
        "colab_type": "code",
        "colab": {}
      },
      "cell_type": "code",
      "source": [
        "# ---------------- your task -------------------\n",
        "\n",
        "def exgcd(a,b):\n",
        "    return (b, 0, 1)\n",
        "    \n",
        "def modinv(a,q):\n",
        "    return 1"
      ],
      "execution_count": 0,
      "outputs": []
    },
    {
      "metadata": {
        "id": "PLx13B56quD8",
        "colab_type": "text"
      },
      "cell_type": "markdown",
      "source": [
        "ให้เขียนฟังก์ชัน `moddiv(a,b,q)` ที่คำนวณ $a/b = a\\cdot b^{-1} \\pmod q$"
      ]
    },
    {
      "metadata": {
        "id": "Jsn3pjVXquD9",
        "colab_type": "code",
        "colab": {}
      },
      "cell_type": "code",
      "source": [
        "# ---------------- your task -------------------\n",
        "\n",
        "def moddiv(a,b,q):\n",
        "    return 1"
      ],
      "execution_count": 0,
      "outputs": []
    },
    {
      "metadata": {
        "id": "zYLyEGPyquEA",
        "colab_type": "text"
      },
      "cell_type": "markdown",
      "source": [
        "ทดลองด้านล่าง คำตอบควรเป็น\n",
        "\n",
        "    9\n",
        "    10\n",
        "    12\n",
        "    20"
      ]
    },
    {
      "metadata": {
        "id": "qC69ORSgquEA",
        "colab_type": "code",
        "colab": {}
      },
      "cell_type": "code",
      "source": [
        "print(moddiv(1,5,11))\n",
        "print(moddiv(7,4,11))\n",
        "print(moddiv(5,8,13))\n",
        "print(moddiv(10,59,117))"
      ],
      "execution_count": 0,
      "outputs": []
    },
    {
      "metadata": {
        "id": "dLLT0lWDquED",
        "colab_type": "text"
      },
      "cell_type": "markdown",
      "source": [
        "### Polynomial evaluation"
      ]
    },
    {
      "metadata": {
        "id": "s4gSnIqdquEE",
        "colab_type": "text"
      },
      "cell_type": "markdown",
      "source": [
        "เราจะเก็บ polynomial ดีกรี $d$ เป็น list ขนาด $d+1$  โดยเราจะเก็บ polynomial \n",
        "\n",
        "$a_d x^d + a_{d-1} x^{d-1} + \\cdots + a_1 x + a_0$\n",
        "\n",
        "เป็นรายการ $[a_0, a_1, \\ldots, a_{d-1}, a_d]$\n",
        "\n",
        "นั่นคือ สัมประสิทธิ์ของ $x^i$ จะอยู่ที่ช่องที่ $i$\n",
        "\n",
        "**หมายเหตุ: ระวังผิด สัมประสิทธิ์จะเรียงกลับข้าง**\n",
        "\n",
        "ให้เขียนฟังก์ชัน `peval(f,x,p)` ที่รับ polynomial `f` ในรูปแบบข้างต้น (ดูดีกรีจากขนาด list) คำนวณ $f(x) \\bmod p$\n",
        "\n",
        "**Hint:** สามารถใช้ [Horner's method](https://en.wikipedia.org/wiki/Horner%27s_method) ได้ แต่จะเขียนตรง ๆ ก็ได้"
      ]
    },
    {
      "metadata": {
        "id": "Suq-u2I7quEF",
        "colab_type": "code",
        "colab": {}
      },
      "cell_type": "code",
      "source": [
        "# ---------------- your task -------------------\n",
        "\n",
        "def peval(f, x, p):\n",
        "    return 0"
      ],
      "execution_count": 0,
      "outputs": []
    },
    {
      "metadata": {
        "id": "idrzuz1UquEI",
        "colab_type": "text"
      },
      "cell_type": "markdown",
      "source": [
        "ทดสอบกับโค้ดด้านล่าง ผลลัพธ์ควรเป็น\n",
        "\n",
        "    [4, 5, 127, 12, 117, 69]"
      ]
    },
    {
      "metadata": {
        "id": "hw1okzAfquEJ",
        "colab_type": "code",
        "colab": {}
      },
      "cell_type": "code",
      "source": [
        "print([peval([1,1], 10, 7),\n",
        "       peval([1,1,1], 5, 13),\n",
        "       peval([1,1,1,1,1,1,1],2,1024),\n",
        "       peval([1,1,1,1,1,1,1],2,23),\n",
        "       peval([1,0,1,0,1,1,1],2,1024),\n",
        "       peval([1,1,1,1,1,1,1],3,1024)])"
      ],
      "execution_count": 0,
      "outputs": []
    },
    {
      "metadata": {
        "id": "-VTjIK2mquEL",
        "colab_type": "text"
      },
      "cell_type": "markdown",
      "source": [
        "### Erasure codes: Encoding\n",
        "\n",
        "เราจะเข้ารหัส (encode) ข้อมูล โดยรับประกันว่าเมื่อลบบางส่วนออกแล้วยังสามารถสร้างข้อมูลต้นทางกลับมาได้\n",
        "\n",
        "เราจะทำงาน modulo 19 ดังนั้นเราจะให้ตัวแปร `p` เก็บ 19 ไว้เลยเพื่อความสะดวก"
      ]
    },
    {
      "metadata": {
        "id": "7a8DnFt8quEM",
        "colab_type": "code",
        "colab": {}
      },
      "cell_type": "code",
      "source": [
        "p = 19"
      ],
      "execution_count": 0,
      "outputs": []
    },
    {
      "metadata": {
        "id": "MPgxm6qwquEQ",
        "colab_type": "text"
      },
      "cell_type": "markdown",
      "source": [
        "สมมติว่าข้อมูลต้นทางเป็นตัวเลขมีค่าระหว่าง 0 - 18 จำนวน 10 ตัว\n",
        "\n",
        "ใส่ตัวเลขดังกล่าวในลิสต์ `msg` ด้านล่าง"
      ]
    },
    {
      "metadata": {
        "id": "ABQoWkVUquES",
        "colab_type": "code",
        "colab": {}
      },
      "cell_type": "code",
      "source": [
        "# ---------------- your task -------------------\n",
        "\n",
        "msg = [1,2,3,4,5,6,7,8,9,10]"
      ],
      "execution_count": 0,
      "outputs": []
    },
    {
      "metadata": {
        "id": "-Y3_ChslquEU",
        "colab_type": "text"
      },
      "cell_type": "markdown",
      "source": [
        "เราจะพิจารณา `msg` ว่าเป็น polynomial ดีกรี 9\n",
        "\n",
        "เราจะสร้างรหัสสำหรับ message ดังกล่าว โดยสร้างเป็นข้อมูลจำนวน 15 ชุด ที่ถ้าข้อมูลดังกล่าวส่งถึงผู้รับ 10 ชุด ผู้รับจะสามารถสร้าง `msg` กลับมาได้\n",
        "\n",
        "เพื่อความสะดวกในการอธิบาย เราจะเรียก polynomial ที่แทน `msg` ว่า $f$\n",
        "\n",
        "ข้อมูล 15 ชุดที่เราจะส่งเป็นรหัสของ `msg` คือ\n",
        "\n",
        "$(0,f(0), (1,f(1)), (2,f(2)), \\ldots, (14,f(14))$\n",
        "\n",
        "นั่นคือจุดบน $f$ จำนวน 15 จุดนั่นเอง\n",
        "\n",
        "ฟังก์ชันด้านล่างคำนวนรายการจุดดังกล่าว"
      ]
    },
    {
      "metadata": {
        "id": "X9jfSzkZquEV",
        "colab_type": "code",
        "colab": {}
      },
      "cell_type": "code",
      "source": [
        "def encode(m):\n",
        "    return [(i, peval(m,i,p)) for i in range(15)]"
      ],
      "execution_count": 0,
      "outputs": []
    },
    {
      "metadata": {
        "id": "IeefuoDmquEY",
        "colab_type": "code",
        "colab": {}
      },
      "cell_type": "code",
      "source": [
        "encode(msg)"
      ],
      "execution_count": 0,
      "outputs": []
    },
    {
      "metadata": {
        "id": "gT3Q_A0JquEa",
        "colab_type": "text"
      },
      "cell_type": "markdown",
      "source": [
        "จากจุดจำนวน 15 จุดดังกล่าว ให้เลือกมาแค่ 10 จุด ใด ๆ ก็ได้  เพื่อเป็นการทดลองทำข้อมูลหาย (erase) และจะได้ทดสอบ erasure code  ให้ใส่จุดที่ได้รับในรายการ `rmsg` ด้านล่าง"
      ]
    },
    {
      "metadata": {
        "id": "i_VloSFJquEb",
        "colab_type": "code",
        "colab": {}
      },
      "cell_type": "code",
      "source": [
        "# ---------------- your task -------------------\n",
        "\n",
        "rmsg = []"
      ],
      "execution_count": 0,
      "outputs": []
    },
    {
      "metadata": {
        "id": "hnuplR6cquEf",
        "colab_type": "text"
      },
      "cell_type": "markdown",
      "source": [
        "ตรวจให้แน่ใจว่า `rmsg` ยาว 10"
      ]
    },
    {
      "metadata": {
        "id": "DpsxBuacquEf",
        "colab_type": "code",
        "colab": {}
      },
      "cell_type": "code",
      "source": [
        "print(len(rmsg))"
      ],
      "execution_count": 0,
      "outputs": []
    },
    {
      "metadata": {
        "id": "equiA3TIquEi",
        "colab_type": "text"
      },
      "cell_type": "markdown",
      "source": [
        "### Erasure codes: Decoding\n",
        "\n",
        "เราจะถอดรหัส (decode) รหัสที่ได้รับมา โดยการหา polynomial $g$ ที่มีดีกรี 9 ที่ผ่านจุด 10 จุดนั้น  และจากที่เราทราบคุณสมบัติของ polynomial เราจะได้ว่าจะมี polynomial degree 9 แค่ polynomial เดียว ดังนั้น $g$ จะต้องเท่ากับ $f$\n",
        "\n",
        "การหา polynomial ดังกล่าว เราเรียกว่าการทำ polynomial interpolation"
      ]
    },
    {
      "metadata": {
        "id": "FCR64JZjquEj",
        "colab_type": "text"
      },
      "cell_type": "markdown",
      "source": [
        "### Polynomial interpolation"
      ]
    },
    {
      "metadata": {
        "id": "hUiAmVJ1quEk",
        "colab_type": "text"
      },
      "cell_type": "markdown",
      "source": [
        "ฟังเลคเชอร์เกี่ยวกับการทำ polynomial interpolation ด้วย gaussian elimination\n",
        "\n",
        "ให้เขียนฟังก์ชันสำหรับสร้าง matrix equation modulo $p$ เพื่อหา $a_0, a_1, \\ldots, a_9$ จาก `rmsg`  ฟังก์ชันนี้จะคืนค่า `(a,b)` โดยที่ `a` เป็น matrix (list of list) ขนาด 10 x 10 และ `b` เป็น"
      ]
    },
    {
      "metadata": {
        "id": "qRvGPfqhquEl",
        "colab_type": "code",
        "colab": {}
      },
      "cell_type": "code",
      "source": [
        "# ---------------- your task -------------------\n",
        "\n",
        "def generate(rmsg):\n",
        "    a = []\n",
        "    b = []\n",
        "    for x,y in rmsg:\n",
        "        b.append(y)\n",
        "        items = []\n",
        "        v = 1\n",
        "        for i in range(len(rmsg)):\n",
        "            items.append(v)\n",
        "        a.append(items)\n",
        "    return (a,b)"
      ],
      "execution_count": 0,
      "outputs": []
    },
    {
      "metadata": {
        "id": "Jy6Ci-9VquEp",
        "colab_type": "code",
        "colab": {}
      },
      "cell_type": "code",
      "source": [
        "print(generate(rmsg))"
      ],
      "execution_count": 0,
      "outputs": []
    },
    {
      "metadata": {
        "id": "JqTXtaMEquEr",
        "colab_type": "text"
      },
      "cell_type": "markdown",
      "source": [
        "ด้านล่างเป็นฟังก์ชัน guassian elimination สำหรับแก้ linear system modulo $p$"
      ]
    },
    {
      "metadata": {
        "id": "w2wNwhtgquEt",
        "colab_type": "code",
        "colab": {}
      },
      "cell_type": "code",
      "source": [
        "def rowop(r1, r2, v):\n",
        "    return [(r1[i] + v*r2[i])%p for i in range(len(r1))]\n",
        "\n",
        "def gaussian(a,b):\n",
        "    n = len(a)\n",
        "    for i in range(n):\n",
        "        d = modinv(a[i][i],p)\n",
        "        for j in range(n):\n",
        "            a[i][j] = (a[i][j] * d) % p\n",
        "        b[i] = (b[i] * d) % p\n",
        "    \n",
        "        for j in range(n):\n",
        "            if j != i:\n",
        "                b[j] = (b[j] - a[j][i]*b[i]) % p\n",
        "                a[j] = rowop(a[j], a[i], -a[j][i])\n",
        "    return b"
      ],
      "execution_count": 0,
      "outputs": []
    },
    {
      "metadata": {
        "id": "R11jQ1L_quEx",
        "colab_type": "text"
      },
      "cell_type": "markdown",
      "source": [
        "ทดลองหา $g$ กลับมา เปรียบเทียบว่าตรงกับ `msg` หรือไม่"
      ]
    },
    {
      "metadata": {
        "id": "9aka5OpUquEy",
        "colab_type": "code",
        "colab": {}
      },
      "cell_type": "code",
      "source": [
        "a,b = generate(rmsg)\n",
        "gaussian(a,b)"
      ],
      "execution_count": 0,
      "outputs": []
    }
  ]
}