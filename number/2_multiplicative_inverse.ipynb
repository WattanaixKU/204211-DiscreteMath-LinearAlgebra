{
 "cells": [
  {
   "cell_type": "markdown",
   "metadata": {
    "colab_type": "text",
    "id": "jZSScW3eUYh7"
   },
   "source": [
    "## Modular multiplicative inverse\n",
    "\n",
    "### Extended GCD\n",
    "\n",
    "เขียนฟังก์ชัน `exgcd` ด้านล่างที่รับ `a`, `b` และคืนค่า `g`,`x`,`y` ที่ $g=gcd(a,b)$ และ $ax+by=g$"
   ]
  },
  {
   "cell_type": "code",
   "execution_count": 1,
   "metadata": {
    "colab": {},
    "colab_type": "code",
    "id": "9CwEBGk3UYh_"
   },
   "outputs": [],
   "source": [
    "# ============= your task ==============\n",
    "\n",
    "def exgcd(a,b):\n",
    "    if a % b == 0:\n",
    "        return (b, 0, 1)\n",
    "    else:\n",
    "        gg,xx,yy = exgcd(b, a % b)\n",
    "        return (gg, yy, xx - (a//b)*yy)                    ### modify this line"
   ]
  },
  {
   "cell_type": "markdown",
   "metadata": {
    "colab_type": "text",
    "id": "F5gj6cZYUYiD"
   },
   "source": [
    "ทดสอบกับตัวอย่างด้านล่าง ควรได้ผลลัพธ์เป็น\n",
    "\n",
    "    (1, -1, 1)\n",
    "    (1, 1, -9)\n",
    "    (4, 2, -5)\n",
    "    (1, -7, 18)\n",
    "    (1, 119, -29)"
   ]
  },
  {
   "cell_type": "code",
   "execution_count": 2,
   "metadata": {
    "colab": {},
    "colab_type": "code",
    "id": "xf_y4PglUYiD"
   },
   "outputs": [
    {
     "name": "stdout",
     "output_type": "stream",
     "text": [
      "(1, -1, 1)\n",
      "(1, 1, -9)\n",
      "(4, 2, -5)\n",
      "(1, -7, 18)\n",
      "(1, 119, -29)\n"
     ]
    }
   ],
   "source": [
    "print(exgcd(10,11))\n",
    "print(exgcd(100,11))\n",
    "print(exgcd(112,44))\n",
    "print(exgcd(113,44))\n",
    "print(exgcd(300,1231))"
   ]
  },
  {
   "cell_type": "markdown",
   "metadata": {
    "colab_type": "text",
    "id": "UT1cGGTGUYiG"
   },
   "source": [
    "### Multiplicative Inverse\n",
    "\n",
    "เราสามารถหา multiplicative inverse modulo $q$ ได้ด้วย `exgcd`  ให้เขียนฟังก์ชัน `modinv` ด้านล่าง ที่รับ `a` และ `q` จากนั้นคืนค่า $a^{-1} \\pmod q$"
   ]
  },
  {
   "cell_type": "code",
   "execution_count": 144,
   "metadata": {
    "colab": {},
    "colab_type": "code",
    "id": "K7PoqXT7UYiH"
   },
   "outputs": [],
   "source": [
    "# ============= your task ==============\n",
    "\n",
    "def modinv(a,q):\n",
    "    return exgcd(a,q)[1]"
   ]
  },
  {
   "cell_type": "markdown",
   "metadata": {
    "colab_type": "text",
    "id": "HCX7HATaUYiK"
   },
   "source": [
    "ทดสอบกับโค้ดด้านล่าง คำตอบควรเป็น 1 หมดทุกบรรทัด"
   ]
  },
  {
   "cell_type": "code",
   "execution_count": 145,
   "metadata": {
    "colab": {},
    "colab_type": "code",
    "id": "_xaKOCa_UYiK"
   },
   "outputs": [
    {
     "name": "stdout",
     "output_type": "stream",
     "text": [
      "1\n",
      "1\n",
      "1\n",
      "1\n",
      "1\n"
     ]
    }
   ],
   "source": [
    "def testmodinv(a,q):\n",
    "    inv = modinv(a,q)\n",
    "    return (a * inv) % q\n",
    "\n",
    "print(testmodinv(5,14))\n",
    "print(testmodinv(5,16))\n",
    "print(testmodinv(70,101))\n",
    "print(testmodinv(703,10411))\n",
    "print(testmodinv(12323,213421))"
   ]
  },
  {
   "cell_type": "markdown",
   "metadata": {
    "colab_type": "text",
    "id": "sUBZHxAjUYiN"
   },
   "source": [
    "### RSA\n",
    "\n",
    "เราจะทดลอง RSA algorithm ในการเข้ารหัสข้อมูล\n",
    "\n",
    "#### ขั้นที่ 1 สร้างกุญแจ\n",
    "\n",
    "ให้เลือกจำนวนเฉพาะสองจำนวน `p` และ `q` ที่มีขนาดค่อนข้างใหญ่ (เช่นหลายสิบล้าน)  สามารถดูได้จากรายการที่ [prime pages](https://primes.utm.edu/lists/small/millions/)"
   ]
  },
  {
   "cell_type": "code",
   "execution_count": 146,
   "metadata": {
    "colab": {},
    "colab_type": "code",
    "id": "eOf6W5eSUYiN"
   },
   "outputs": [],
   "source": [
    "# ใส่ค่าที่เลือกลงที่นี่\n",
    "p = 941085403\n",
    "q = 961753493\n"
   ]
  },
  {
   "cell_type": "markdown",
   "metadata": {
    "colab_type": "text",
    "id": "yD5_Sk2CUYiR"
   },
   "source": [
    "เราจะให้ n = pq"
   ]
  },
  {
   "cell_type": "code",
   "execution_count": 147,
   "metadata": {
    "colab": {},
    "colab_type": "code",
    "id": "Bbde3yjbUYiR"
   },
   "outputs": [],
   "source": [
    "n = p * q"
   ]
  },
  {
   "cell_type": "markdown",
   "metadata": {
    "colab_type": "text",
    "id": "vyltE3dRUYiV"
   },
   "source": [
    "เราจะสร้าง key pair โดยเลือก $e$ มาสักค่า จากนั้นหาค่า $d$ ที่เป็น multiplicative inverse ของ $e$ modulo $(p-1)(q-1)$"
   ]
  },
  {
   "cell_type": "code",
   "execution_count": 148,
   "metadata": {
    "colab": {},
    "colab_type": "code",
    "id": "jJ7fKOnSUYiV"
   },
   "outputs": [],
   "source": [
    "# เลือกค่า e\n",
    "e = 13"
   ]
  },
  {
   "cell_type": "code",
   "execution_count": 149,
   "metadata": {
    "colab": {},
    "colab_type": "code",
    "id": "xScnHwOhUYiZ"
   },
   "outputs": [
    {
     "name": "stdout",
     "output_type": "stream",
     "text": [
      "139244949483649813\n"
     ]
    }
   ],
   "source": [
    "d = modinv(e,(p-1)*(q-1)) % ((p-1)*(q-1))\n",
    "print(d)"
   ]
  },
  {
   "cell_type": "markdown",
   "metadata": {
    "colab_type": "text",
    "id": "GJKjip1YUYid"
   },
   "source": [
    "ทดสอบด้านล่างควรได้ 1"
   ]
  },
  {
   "cell_type": "code",
   "execution_count": 150,
   "metadata": {
    "colab": {},
    "colab_type": "code",
    "id": "nXz9vo2gUYie"
   },
   "outputs": [
    {
     "data": {
      "text/plain": [
       "1"
      ]
     },
     "execution_count": 150,
     "metadata": {},
     "output_type": "execute_result"
    }
   ],
   "source": [
    "e*d % ((p-1)*(q-1))"
   ]
  },
  {
   "cell_type": "markdown",
   "metadata": {
    "colab_type": "text",
    "id": "8OW80AlRUYig"
   },
   "source": [
    "ด้านล่างเป็นกุญแจที่เราได้"
   ]
  },
  {
   "cell_type": "code",
   "execution_count": 151,
   "metadata": {
    "colab": {},
    "colab_type": "code",
    "id": "82ogjl-5UYii"
   },
   "outputs": [
    {
     "name": "stdout",
     "output_type": "stream",
     "text": [
      "Public key =  (13, 905092173546562679)\n",
      "Private key =  (139244949483649813, 905092173546562679)\n"
     ]
    }
   ],
   "source": [
    "private_key = (d,n)\n",
    "public_key = (e,n)\n",
    "\n",
    "print('Public key = ', public_key)\n",
    "print('Private key = ', private_key)"
   ]
  },
  {
   "cell_type": "markdown",
   "metadata": {
    "colab_type": "text",
    "id": "_ry7R-UuUYil"
   },
   "source": [
    "#### ขั้นที่ 2 Encryption / Decryption"
   ]
  },
  {
   "cell_type": "markdown",
   "metadata": {
    "colab_type": "text",
    "id": "avwDj0HQUYim"
   },
   "source": [
    "เนื่องจากเราต้องยกกำลังด้วยกำลังขนาดใหญ่มาก ให้นำฟังก์ชัน power ที่เคยเขียนจากครั้งก่อนมาใช้"
   ]
  },
  {
   "cell_type": "code",
   "execution_count": 152,
   "metadata": {
    "colab": {},
    "colab_type": "code",
    "id": "4hw8qnPiUYim"
   },
   "outputs": [],
   "source": [
    "# ============= your task ==============\n",
    "\n",
    "def power(a,n,p):\n",
    "    if n == 1:\n",
    "        return a%p\n",
    "    tmp = power(a,n//2,p)\n",
    "    if n%2 == 0:\n",
    "        return (tmp ** 2)%p\n",
    "    else:\n",
    "        return ((tmp ** 2) * a)%p"
   ]
  },
  {
   "cell_type": "markdown",
   "metadata": {
    "colab_type": "text",
    "id": "bI4ucJs0UYip"
   },
   "source": [
    "ด้านล่างเป็นฟังก์ชันเข้ารหัส `encrypt` และถอดรหัส `decrypt`"
   ]
  },
  {
   "cell_type": "code",
   "execution_count": 153,
   "metadata": {
    "colab": {},
    "colab_type": "code",
    "id": "m_yX_r3VUYiq"
   },
   "outputs": [],
   "source": [
    "def encrypt(m, pub_key):\n",
    "    return power(m, pub_key[0], pub_key[1])\n",
    "\n",
    "def decrypt(m, priv_key):\n",
    "    return power(m, priv_key[0], priv_key[1])\n"
   ]
  },
  {
   "cell_type": "markdown",
   "metadata": {
    "colab_type": "text",
    "id": "wSFEDZ14UYis"
   },
   "source": [
    "ทดลองเปลี่ยนค่า input ที่ `encrypt` ด้านล่าง ผลลัพธ์ควรออกมาตรง"
   ]
  },
  {
   "cell_type": "code",
   "execution_count": 154,
   "metadata": {
    "colab": {},
    "colab_type": "code",
    "id": "iRrSGmRjUYit"
   },
   "outputs": [
    {
     "data": {
      "text/plain": [
       "1121124444"
      ]
     },
     "execution_count": 154,
     "metadata": {},
     "output_type": "execute_result"
    }
   ],
   "source": [
    "\n",
    "decrypt(encrypt(1121124444, public_key), private_key)"
   ]
  },
  {
   "cell_type": "markdown",
   "metadata": {
    "colab_type": "text",
    "id": "72a-vqHLUYiz"
   },
   "source": [
    "#### ทดลองกับเพื่อน"
   ]
  },
  {
   "cell_type": "markdown",
   "metadata": {
    "colab_type": "text",
    "id": "2s4OCzqMUYiz"
   },
   "source": [
    "ให้โพส public_key เป็น comment ใน status  และให้เพื่อนทดลองส่ง message มาหา  ทดสอบว่าเมื่อ decrypt แล้วได้ผลลัพธ์ตรงกันกับที่เพื่อนส่งมาหรือไม่"
   ]
  },
  {
   "cell_type": "code",
   "execution_count": 157,
   "metadata": {},
   "outputs": [
    {
     "name": "stdout",
     "output_type": "stream",
     "text": [
      "encrypted -> 41578684807254962\n"
     ]
    }
   ],
   "source": [
    "friend_public_key = (13, 81324052219893409)\n",
    "print(\"encrypted ->\",encrypt(121234123121,friend_public_key))"
   ]
  },
  {
   "cell_type": "code",
   "execution_count": 158,
   "metadata": {},
   "outputs": [
    {
     "data": {
      "text/plain": [
       "2132412412412"
      ]
     },
     "execution_count": 158,
     "metadata": {},
     "output_type": "execute_result"
    }
   ],
   "source": [
    "unknow_data = 281688615643904705\n",
    "decrypt(unknow_data, private_key)"
   ]
  },
  {
   "cell_type": "code",
   "execution_count": null,
   "metadata": {},
   "outputs": [],
   "source": []
  }
 ],
 "metadata": {
  "colab": {
   "name": "2-multiplicative-inverse.ipynb",
   "provenance": [],
   "version": "0.3.2"
  },
  "kernelspec": {
   "display_name": "Python 3",
   "language": "python",
   "name": "python3"
  },
  "language_info": {
   "codemirror_mode": {
    "name": "ipython",
    "version": 3
   },
   "file_extension": ".py",
   "mimetype": "text/x-python",
   "name": "python",
   "nbconvert_exporter": "python",
   "pygments_lexer": "ipython3",
   "version": "3.6.5"
  }
 },
 "nbformat": 4,
 "nbformat_minor": 1
}
