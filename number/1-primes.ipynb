{
 "cells": [
  {
   "cell_type": "markdown",
   "metadata": {},
   "source": [
    "## จำนวนเฉพาะ (Primes)\n",
    "\n",
    "### Prime factorization\n",
    "\n",
    "เขียนฟังก์ชัน `pfactor` ที่รับจำนวนเต็มบวก แล้วคืนรายการของจำนวนเฉพาะที่เป็นผลลัพธ์จากการแยกตัวประกอบที่เป็นจำนวนเฉพาะ  รายการนี้อาจมีจำนวนเฉพาะซ้ำกันได้ เช่น `pfactor(12)` จะให้ผลลัพธ์เป็น `[2, 2, 3]`"
   ]
  },
  {
   "cell_type": "code",
   "execution_count": 1,
   "metadata": {},
   "outputs": [],
   "source": [
    "# ================ YOUR TASK =======================\n",
    "def pfactor(n):\n",
    "    ans = []\n",
    "    i = 2\n",
    "    while n!=1:\n",
    "        if n%i != 0:\n",
    "            i += 1\n",
    "            continue\n",
    "        n /= i\n",
    "        ans.append(i)\n",
    "    return ans"
   ]
  },
  {
   "cell_type": "markdown",
   "metadata": {},
   "source": [
    "ทดสอบกับโค้ดด้านล่าง ผลลัพธ์ที่ควรได้รับคือ\n",
    "\n",
    "    [2, 5]\n",
    "    [2, 2, 3]\n",
    "    [2, 2, 2, 2, 7]\n",
    "    [2, 2, 2, 3, 5]\n",
    "    [2, 3, 11, 17]"
   ]
  },
  {
   "cell_type": "code",
   "execution_count": 2,
   "metadata": {},
   "outputs": [
    {
     "name": "stdout",
     "output_type": "stream",
     "text": [
      "[2, 5]\n",
      "[2, 2, 3]\n",
      "[2, 2, 2, 2, 7]\n",
      "[2, 2, 2, 3, 5]\n",
      "[2, 3, 11, 17]\n"
     ]
    }
   ],
   "source": [
    "print(pfactor(10))\n",
    "print(pfactor(12))\n",
    "print(pfactor(112))\n",
    "print(pfactor(120))\n",
    "print(pfactor(1122))"
   ]
  },
  {
   "cell_type": "markdown",
   "metadata": {},
   "source": [
    "### Sieve of Eratosthenes\n",
    "\n",
    "ถ้าเราต้องการหารายการของจำนวนเฉพาะทั้งหมด ที่มีขอบเขตตั้งแต่ $2$ ถึง $n$ แทนที่เราจะตรวจสอบจำนวนเต็มทีละตัว เราสามารถใช้เทคนิคที่เรียกว่าตะแกรงร่อนของ Eratosthenes ได้ [อ่านรายละเอียดที่นี่](https://en.wikipedia.org/wiki/Sieve_of_Eratosthenes)\n",
    "\n",
    "ด้านล่างเป็นฟังก์ชันดังกล่าว  ฟังก์ชันดังกล่าวทำงานในเวลา $O(n\\log n)$ เพราะว่าในแต่ละรอบที่พิจารณา $i$ ถ้า $i$ เป็นจำนวนเฉพาะ `while` ลูปด้านในจะทำงานไม่เกิน $n/i$ รอบ ดังนั้นเวลาการทำงานรวมจะไม่เกิน\n",
    "\n",
    "$n/2 + n/3 + n/4 + \\cdots + n/n = n\\cdot(1/2 + 1/3 +\\cdots + 1/n) \\leq n\\cdot H_n = O(n\\log n)$\n",
    "\n",
    "ให้ศึกษาและทดลองเรียกให้ทำงาน (นิสิตจะต้องเขียน/ปรับปรุงใหม่ เพื่อทดลอง plot จำนวนเฉพาะที่มีค่าไม่เกิน $n$ สำหรับค่า $n$ ต่าง ๆ)"
   ]
  },
  {
   "cell_type": "code",
   "execution_count": 3,
   "metadata": {},
   "outputs": [],
   "source": [
    "def find_all_primes(n):\n",
    "    is_prime = [True] * (n+1)\n",
    "    is_prime[0] = False\n",
    "    is_prime[1] = False\n",
    "    primes = []\n",
    "    for i in range(n+1):\n",
    "        if is_prime[i]:\n",
    "            primes.append(i)\n",
    "            j = 2*i\n",
    "            while j <= n:\n",
    "                is_prime[j] = False\n",
    "                j += i\n",
    "    return primes"
   ]
  },
  {
   "cell_type": "markdown",
   "metadata": {},
   "source": [
    "ทดลองเรียกใช้ด้านล่าง"
   ]
  },
  {
   "cell_type": "code",
   "execution_count": 4,
   "metadata": {},
   "outputs": [
    {
     "data": {
      "text/plain": [
       "[2, 3, 5, 7, 11, 13, 17, 19]"
      ]
     },
     "execution_count": 4,
     "metadata": {},
     "output_type": "execute_result"
    }
   ],
   "source": [
    "find_all_primes(20)"
   ]
  },
  {
   "cell_type": "markdown",
   "metadata": {},
   "source": [
    "จากฟังก์ชันดังกล่าว ให้นำมาปรับและเขียนเป็นฟังก์ชัน `count_all_primes` ที่รับจำนวนเต็ม `n` และคืนรายการขนาด `n+1` ที่ในรายการช่องที่ `i` เก็บค่าจำนวนของจำนวนเฉพาะที่มีค่าไม่เกิน `i`\n",
    "\n",
    "ยกตัวอย่างเช่น ถ้าเรียก `count_all_primes(10)` ควรได้ผลลัพธ์เป็น\n",
    "\n",
    "    [0, 0, 1, 2, 2, 3, 3, 4, 4, 4, 4]"
   ]
  },
  {
   "cell_type": "code",
   "execution_count": 5,
   "metadata": {},
   "outputs": [],
   "source": [
    "# ================ YOUR TASK =======================\n",
    "def count_all_primes(n):\n",
    "    list_of_prime = find_all_primes(n)\n",
    "    counter = [0] * (n+1)\n",
    "    j = 0\n",
    "    for i in range(1,n+1):\n",
    "        if(j== len(list_of_prime)):\n",
    "            counter[i] = counter[i-1]\n",
    "            continue\n",
    "        if(i == list_of_prime[j]):\n",
    "            counter[i] = counter[i-1] + 1\n",
    "            j += 1\n",
    "        else:\n",
    "            counter[i] = counter[i-1]\n",
    "    return counter"
   ]
  },
  {
   "cell_type": "markdown",
   "metadata": {},
   "source": [
    "ทดสอบการทำงานที่ด้านล่าง ผลลัพธ์ควรได้\n",
    "\n",
    "    [0, 0, 1, 2, 2, 3, 3, 4, 4, 4, 4]\n",
    "    [0, 0, 1, 2, 2, 3, 3, 4, 4, 4, 4, 5, 5, 6, 6, 6, 6, 7, 7, 8, 8]\n",
    "    [0, 0, 1, 2, 2, 3, 3, 4, 4, 4, 4, 5, 5, 6, 6, 6, 6, 7, 7, 8, 8, 8, 8, 9, 9, 9, 9, 9, 9, 10, 10]"
   ]
  },
  {
   "cell_type": "code",
   "execution_count": 6,
   "metadata": {},
   "outputs": [
    {
     "name": "stdout",
     "output_type": "stream",
     "text": [
      "[0, 0, 1, 2, 2, 3, 3, 4, 4, 4, 4]\n",
      "[0, 0, 1, 2, 2, 3, 3, 4, 4, 4, 4, 5, 5, 6, 6, 6, 6, 7, 7, 8, 8]\n",
      "[0, 0, 1, 2, 2, 3, 3, 4, 4, 4, 4, 5, 5, 6, 6, 6, 6, 7, 7, 8, 8, 8, 8, 9, 9, 9, 9, 9, 9, 10, 10]\n"
     ]
    }
   ],
   "source": [
    "print(count_all_primes(10))\n",
    "print(count_all_primes(20))\n",
    "print(count_all_primes(30))"
   ]
  },
  {
   "cell_type": "markdown",
   "metadata": {},
   "source": [
    "### จำนวนของจำนวนเฉพาะ\n",
    "\n",
    "จากฟังก์ชัน `count_all_primes` เราจะสามารถ plot กราฟของจำนวนของจำนวนเฉพาะได้ ดังโค้ดด้านล่าง  ให้ทดลอง plot โดยปรับค่าขอบเขต `n` จาก 10, 30, เพิ่มขึ้น (อาจจะเพิ่มจนเยอะมาก ๆ เช่นสัก 100000 ได้) และพิจารณากราฟที่ได้"
   ]
  },
  {
   "cell_type": "code",
   "execution_count": 7,
   "metadata": {},
   "outputs": [
    {
     "data": {
      "text/plain": [
       "<matplotlib.figure.Figure at 0x10f229ac8>"
      ]
     },
     "metadata": {},
     "output_type": "display_data"
    }
   ],
   "source": [
    "import matplotlib.pyplot as plt\n",
    "plt.plot(count_all_primes(1000000))\n",
    "plt.show()"
   ]
  },
  {
   "cell_type": "markdown",
   "metadata": {},
   "source": [
    "## การยกกำลัง\n",
    "\n",
    "ในส่วนนี้เราจะเขียนฟังก์ชัน `power(a,n,p)` ที่คำนวณ $a^n \\bmod p$   ฟังก์ชันดังกล่าว ถ้า `a` และ `n` มีขนาดใหญ่ ถ้าเราคำนวณโดยตรง การทำงานจะช้ามาก  ให้เขียนฟังก์ชัน power ในลักษณะเดียวกับในเอกสารประกอบการเรียน [ดูที่](https://github.com/jittat/01204211-discrete-math-slides/blob/master/year-2558-slides/17-primality-testing2.slides.pdf)   แต่ในการคำนวณแต่ละขั้นให้ mod `p` ด้วย เพื่อให้ผลลัพธ์ที่ได้ไม่มีขนาดใหญ่เกินไป\n",
    "\n",
    "**หมายเหตุ:** ใช้ `//` เพื่อหารปัดเศษ  เช่น `7 // 2` จะได้ผลลัพธ์เท่ากับ `3`"
   ]
  },
  {
   "cell_type": "code",
   "execution_count": 13,
   "metadata": {},
   "outputs": [],
   "source": [
    "# ================ YOUR TASK =======================\n",
    "def power(a,n,p):\n",
    "    if n == 1:\n",
    "        return a%p\n",
    "    tmp = power(a,n//2,p)\n",
    "    if n%2 == 0:\n",
    "        return (tmp ** 2)%p\n",
    "    else:\n",
    "        return ((tmp ** 2) * a)%p"
   ]
  },
  {
   "cell_type": "markdown",
   "metadata": {},
   "source": [
    "ทดสอบด้านล่าง ผลลัพธ์ควรได้\n",
    "\n",
    "    1\n",
    "    634\n",
    "    267\n",
    "    1051\n",
    "    142\n",
    "\n",
    "โดยที่ได้คำตอบในทันที (ไม่ต้องรอโปรแกรมทำงาน)"
   ]
  },
  {
   "cell_type": "code",
   "execution_count": 19,
   "metadata": {},
   "outputs": [
    {
     "name": "stdout",
     "output_type": "stream",
     "text": [
      "1\n",
      "634\n",
      "267\n",
      "1051\n",
      "142\n"
     ]
    }
   ],
   "source": [
    "print(power(10,1,3))\n",
    "print(power(2,100,1231))\n",
    "print(power(3,10000000,1117))\n",
    "print(power(7,1000000000000,1117))\n",
    "print(power(13,1000000000000000000,1117))"
   ]
  },
  {
   "cell_type": "markdown",
   "metadata": {},
   "source": [
    "## ทดลอง Fermat's Little Theorem"
   ]
  },
  {
   "cell_type": "markdown",
   "metadata": {},
   "source": [
    "Fermat's Little Theorem ระบุว่า\n",
    "\n",
    "*สำหรับจำนวนเฉพาะ $p$ และจำนวนเต็ม $a$ ที่ $p$ หาร $a$ ไม่ลงตัว แล้ว*\n",
    "\n",
    "$$ a^{p-1} \\bmod p = 1 $$\n",
    "\n",
    "ให้ทดลองใช้ฟังก์ชัน `power` ที่เขียน เพื่อทดสอบความจริงดังกล่าว สำหรับค่า $p$ ในกรณีที่ $p$ เป็นจำนวนเฉพาะ และ $p$ ที่ไม่เป็นจำนวนเฉพาะ  ให้เลือกค่า $a$ ที่มีค่าระหว่าง $2$ ถึง $(p-1)$"
   ]
  },
  {
   "cell_type": "code",
   "execution_count": 33,
   "metadata": {},
   "outputs": [
    {
     "name": "stdout",
     "output_type": "stream",
     "text": [
      "561 True Fail on 3\n",
      "1\n"
     ]
    }
   ],
   "source": [
    "# ======================== Try it here ============================\n",
    "count = 0\n",
    "for p in range(561,562):\n",
    "    print(p,power(2,p-1,p)==1,end = ' ')\n",
    "    for i in range(2,p):\n",
    "        if p%i == 0:\n",
    "            print(\"Fail on\",i)\n",
    "            break\n",
    "        if i == p-1:\n",
    "            print()\n",
    "    if power(2,p-1,p)==1:\n",
    "        count += 1\n",
    "print(count)"
   ]
  },
  {
   "cell_type": "code",
   "execution_count": null,
   "metadata": {},
   "outputs": [],
   "source": []
  }
 ],
 "metadata": {
  "kernelspec": {
   "display_name": "Python 3",
   "language": "python",
   "name": "python3"
  },
  "language_info": {
   "codemirror_mode": {
    "name": "ipython",
    "version": 3
   },
   "file_extension": ".py",
   "mimetype": "text/x-python",
   "name": "python",
   "nbconvert_exporter": "python",
   "pygments_lexer": "ipython3",
   "version": "3.6.5"
  }
 },
 "nbformat": 4,
 "nbformat_minor": 2
}
