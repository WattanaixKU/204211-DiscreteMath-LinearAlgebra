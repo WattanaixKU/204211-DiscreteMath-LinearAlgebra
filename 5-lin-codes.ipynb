{
 "cells": [
  {
   "cell_type": "markdown",
   "metadata": {},
   "source": [
    "## Hamming codes\n",
    "\n",
    "Hamming นิยามโค้ดสำหรับสร้างรหัสของข้อความขนาด 4 บิต เป็นรหัส codeword 7 บิต ที่สามารถตรวจสอบว่ารหัสมีความผิดพลาดและแก้ไขได้ ด้วยเมตริกซ์ $G$ ขนาด $7\\times 4$ ดังด้านล่าง"
   ]
  },
  {
   "cell_type": "code",
   "execution_count": 38,
   "metadata": {},
   "outputs": [
    {
     "name": "stdout",
     "output_type": "stream",
     "text": [
      "[[1, 0, 0, 0], [0, 1, 0, 0], [0, 0, 1, 0], [0, 0, 0, 1], [0, 1, 1, 1], [1, 0, 1, 1], [1, 1, 0, 1]]\n"
     ]
    }
   ],
   "source": [
    "G = [[1,0,0,0],\n",
    "     [0,1,0,0],\n",
    "     [0,0,1,0],\n",
    "     [0,0,0,1],\n",
    "     [0,1,1,1],\n",
    "     [1,0,1,1],\n",
    "     [1,1,0,1]\n",
    "    ]\n",
    "print(G)"
   ]
  },
  {
   "cell_type": "markdown",
   "metadata": {},
   "source": [
    "สมมติว่าเรามีข้อความขนาด 4 บิต $x=[1,0,1,0]$ เราจะสร้างเวกเตอร์ได้ดังนี้"
   ]
  },
  {
   "cell_type": "code",
   "execution_count": 2,
   "metadata": {},
   "outputs": [
    {
     "name": "stdout",
     "output_type": "stream",
     "text": [
      "[1, 0, 1, 0]\n"
     ]
    }
   ],
   "source": [
    "x = [1,0,1,0]\n",
    "print(x)"
   ]
  },
  {
   "cell_type": "markdown",
   "metadata": {},
   "source": [
    "### คูณเมตริกซ์ด้วยเวกเตอร์\n",
    "\n",
    "การทำงานหลักของเราคือการคูณเมตริกซ์ด้วยเวกเตอร์  ให้ปรับฟังก์ชัน `mvmult` จากคาบก่อนให้สามารถทำงานได้ในกรณีที่เมตริกซ์มีขนาดไม่จำเป็นต้องเป็น 2 แต่จำนวนคอลัมน์ของเมตริกซ์เท่ากับขนาดของเวกเตอร์ (นั่นคือคูณกันได้)\n",
    "\n",
    "ในการเขียนให้เขียนฟังก์ชัน `vdot` ที่ทำการหา dot product ก่อน  อย่าลืมว่าเราทำงานใน $GF(2)$ ดังนั้นผลรวมอย่าลืม mod 2\n",
    "\n",
    "*hint:* หาความยาวเวกเตอร์ด้วยฟังก์ชัน `len` อาจจะทดลองใช้การเขียนแบบ list comprehension (แต่ไม่จำเป็น)"
   ]
  },
  {
   "cell_type": "code",
   "execution_count": 11,
   "metadata": {},
   "outputs": [],
   "source": [
    "def vdot(x1,x2):\n",
    "    return sum([x1[i]*x2[i] for i in range(len(x1))])%2"
   ]
  },
  {
   "cell_type": "markdown",
   "metadata": {},
   "source": [
    "ทดสอบด้วยโค้ดด้านล่าง ผลลัพธ์ควรเป็นดังนี้\n",
    "\n",
    "    [1, 0, 1, 1, 1, 1, 0]"
   ]
  },
  {
   "cell_type": "code",
   "execution_count": 12,
   "metadata": {},
   "outputs": [
    {
     "name": "stdout",
     "output_type": "stream",
     "text": [
      "[1, 0, 1, 1, 1, 1, 0]\n"
     ]
    }
   ],
   "source": [
    "print([vdot([1,0,1],[0,1,1]),\n",
    "       vdot([1,0,1,1],[0,1,1,1]),\n",
    "       vdot([1,0,1,1,1],[0,1,1,1,1]),\n",
    "       vdot([1,0,1,1,1,0],[0,1,1,1,1,0]),\n",
    "       vdot([1,0,1,1,1,0],[0,1,1,1,1,1]),\n",
    "       vdot([1,0,1,1,1,1],[0,1,1,1,1,0]),\n",
    "       vdot([1,0,1,1,1,1],[0,1,1,1,1,1])])"
   ]
  },
  {
   "cell_type": "markdown",
   "metadata": {},
   "source": [
    "ใช้ `vdot` ในการเขียน `mvmult`"
   ]
  },
  {
   "cell_type": "code",
   "execution_count": 14,
   "metadata": {},
   "outputs": [],
   "source": [
    "def mvmult(M,x):\n",
    "    ans = []\n",
    "    for i in range(len(M)):\n",
    "        ans.append(vdot(M[i],x))\n",
    "    return ans"
   ]
  },
  {
   "cell_type": "markdown",
   "metadata": {},
   "source": [
    "ทดสอบกับโค้ดด้านล่าง ผลลัพธ์ควรเป็นดังนี้\n",
    "\n",
    "```\n",
    "[1, 1, 1, 1, 1, 1, 1]\n",
    "[0, 1, 0, 1, 0, 1, 0]\n",
    "[1, 0, 0, 1, 1, 0, 0]\n",
    "```"
   ]
  },
  {
   "cell_type": "code",
   "execution_count": 15,
   "metadata": {},
   "outputs": [
    {
     "name": "stdout",
     "output_type": "stream",
     "text": [
      "[1, 1, 1, 1, 1, 1, 1]\n",
      "[0, 1, 0, 1, 0, 1, 0]\n",
      "[1, 0, 0, 1, 1, 0, 0]\n"
     ]
    }
   ],
   "source": [
    "print(mvmult(G,[1,1,1,1]))\n",
    "print(mvmult(G,[0,1,0,1]))\n",
    "print(mvmult(G,[1,0,0,1]))"
   ]
  },
  {
   "cell_type": "markdown",
   "metadata": {},
   "source": [
    "### Codeword\n",
    "\n",
    "**codeword** คือข้อความที่ผ่านการเข้ารหัส (encode) แล้ว\n",
    "\n",
    "codeword สำหรับข้อความ $x$ จะนิยามเป็น $Gx$ ซึ่งจะมีความยาว 7 บิต  ซึ่งเราคำนวณได้ดังด้านล่าง"
   ]
  },
  {
   "cell_type": "code",
   "execution_count": 16,
   "metadata": {},
   "outputs": [],
   "source": [
    "# ฟังก์ชัน encode คูณเมตริกซ์ G เข้ากับ x บน GF(2)\n",
    "def encode(G,x):\n",
    "    return mvmult(G,x)"
   ]
  },
  {
   "cell_type": "code",
   "execution_count": 17,
   "metadata": {},
   "outputs": [
    {
     "name": "stdout",
     "output_type": "stream",
     "text": [
      "[1, 0, 1, 0, 1, 0, 1]\n"
     ]
    }
   ],
   "source": [
    "print(encode(G,[1,0,1,0]))"
   ]
  },
  {
   "cell_type": "markdown",
   "metadata": {},
   "source": [
    "### ระยะระหว่าง codeword\n",
    "รหัสจะมีคุณภาพที่ดีถ้า codeword ต่าง ๆ มีความแตกต่างกัน (เพราะว่าถ้ามีการเปลี่ยนแปลงแค่บางบิต ก็จะสามารถตรวจสอบได้)  ให้เขียนฟังก์ชัน `distance` ด้านล่างในการคำนวณจำนวนบิตที่แตกต่างกันของสอง codeword x กับ y\n",
    "\n",
    "*หมายเหตุ* ระยะทางดังกล่าว เรียกว่า **Hamming distance**\n",
    "\n",
    "*hint* มีฟังก์ชัน `abs` สำหรับหาค่าสัมบูรณ์"
   ]
  },
  {
   "cell_type": "code",
   "execution_count": 40,
   "metadata": {},
   "outputs": [],
   "source": [
    "def distance(x,y):\n",
    "    #print(x,y)\n",
    "    return sum([(x[i]+y[i])%2 for i in range(len(x))])"
   ]
  },
  {
   "cell_type": "code",
   "execution_count": 24,
   "metadata": {},
   "outputs": [
    {
     "name": "stdout",
     "output_type": "stream",
     "text": [
      "4\n"
     ]
    }
   ],
   "source": [
    "print(distance(encode(G,[1,0,0,1]), encode(G,[1,1,1,1])))"
   ]
  },
  {
   "cell_type": "markdown",
   "metadata": {},
   "source": [
    "ระยะระหว่าง codeword สองรหัสที่ใกล้กันที่สุดจะบอกความสามารถในการตรวจสอบความผิดพลาด (error detection) และการแก้ไขความผิดพลาด (error correction)\n",
    "\n",
    "สำหรับ Hamming code ระยะใกล้สุดคือ 3\n",
    "\n",
    "ให้หา message `x1` และ `x2` ที่มีระยะของ codeword เท่ากับ 3  (ให้ลองปรับ x1, x2 ดูด้านล่าง)"
   ]
  },
  {
   "cell_type": "code",
   "execution_count": 41,
   "metadata": {},
   "outputs": [
    {
     "name": "stdout",
     "output_type": "stream",
     "text": [
      "3\n"
     ]
    }
   ],
   "source": [
    "x1 = [1,1,0,0]\n",
    "x2 = [1,1,1,1]\n",
    "print(distance(encode(G,x1), encode(G,x2)))"
   ]
  },
  {
   "cell_type": "markdown",
   "metadata": {},
   "source": [
    "**>>> คำถาม 1**:\n",
    "\n",
    "จริง ๆ แล้วเราจะสามารถคู่ของ codeword ที่ใกล้ที่สุด โดยที่ให้ x1=[0,0,0,0] ได้เสมอ ทำไม?  ให้อธิบายเหตุผลคร่าว ๆ\n",
    "\n",
    "สามารถนำ x1 ไปลบทั้ง x1 และ x2 โดยยังรักษา Hamming distance ไว้ได้"
   ]
  },
  {
   "cell_type": "markdown",
   "metadata": {},
   "source": [
    "### Linear function\n",
    "\n",
    "จากที่เราได้พิจารณาในห้องเรียน การคูณด้วยเมตริกซ์เป็น linear function นั่นคือถ้าเรานิยามให้ $f(x)=Mx$ เราจะได้ว่า $f$ เป็น linear function\n",
    "\n",
    "ในกรณีนี้ `encode` (ขอเขียนย่อเป็น $e$) ที่นิยามด้วย $e(x) = Gx$ เป็นฟังก์ชันจาก $GF(2)^4$ ไปยัง $GF(2)^7$  หรือเขียนเป็น $e:GF(2)^4\\rightarrow GF(2)^7$"
   ]
  },
  {
   "cell_type": "markdown",
   "metadata": {},
   "source": [
    "**>>> คำถาม 2**:\n",
    "1. $\\mathsf{Ker}\\; e$ คืออะไร? [0,0,0,0]\n",
    "2. $\\dim\\; \\mathsf{Ker}\\; e$ เท่ากับเท่าใด 0\n",
    "3. $\\dim\\; \\mathsf{Im}\\; e$ เท่ากับเท่าใด 4\n",
    "4. $\\dim\\; GF(2)^4$ เท่ากับเท่าใด 4"
   ]
  },
  {
   "cell_type": "markdown",
   "metadata": {},
   "source": [
    "### เกี่ยวกับ code\n",
    "\n",
    "เราจะเรียกเซตของ codeword ทั้งหมดว่า code $C$ (หรือในอีกมุมหนึ่งอาจจะเห็นได้ว่า $C=\\mathsf{Im}\\; e$ นั่นเอง)\n",
    "\n",
    "จากคำถามข้างต้น สังเกตว่า $C$ เป็นสตริง 7 บิต ดังนั้น $C\\subset GF(2)^7$   เราทราบว่า $|GF(2)^7|=2^7$ แต่ขนาดของ $C$ เท่ากับเท่าใด?\n",
    "\n",
    "**>>> คำถาม 3:** $|C|$ เท่ากับเท่าใด (พยายามใช้ความจริงเกี่ยวกับ $\\mathsf{Ker}\\; e$ ในการตอบ)"
   ]
  },
  {
   "cell_type": "markdown",
   "metadata": {},
   "source": [
    "### Check matrix\n",
    "\n",
    "Hamming นิยาม **check matrix** $H$ ดังนี้"
   ]
  },
  {
   "cell_type": "code",
   "execution_count": 44,
   "metadata": {},
   "outputs": [],
   "source": [
    "H = [[0,0,0,1,1,1,1],\n",
    "     [0,1,1,0,0,1,1],\n",
    "     [1,0,1,0,1,0,1]]"
   ]
  },
  {
   "cell_type": "markdown",
   "metadata": {},
   "source": [
    "คุณสมบัติหนึ่งของ check matrix คือ สำหรับทุก ๆ codeword $c\\in C$, $Hc=0$  ให้เขียนเมทอดสำหรับแปลงเลขจำนวนเต็มเป็นเวกเตอร์ขนาด 4 บิตเพื่อใช้ทดลองด้านล่าง"
   ]
  },
  {
   "cell_type": "code",
   "execution_count": 59,
   "metadata": {},
   "outputs": [],
   "source": [
    "#\n",
    "# งานของคุณ\n",
    "#\n",
    "# แปลงจำนวนเต็ม i เป็นเวกเตอร์ของบิตความยาว n บิต\n",
    "# เช่น bitvect(4,2) => [0,0,1,0]\n",
    "#   bitvect(4,5) => [0,1,0,1]\n",
    "#   bitvect(4,9) => [1,0,0,1]\n",
    "def bitvect(n,i):\n",
    "    return [(i//2**j)%2 for j in range(n)][::-1]"
   ]
  },
  {
   "cell_type": "markdown",
   "metadata": {},
   "source": [
    "เมื่อเขียน bitvect เสร็จให้รันด้านล่าง  ผลลัพธ์ควรเป็น [0,0,0] ในทุกแถว"
   ]
  },
  {
   "cell_type": "code",
   "execution_count": 61,
   "metadata": {},
   "outputs": [
    {
     "name": "stdout",
     "output_type": "stream",
     "text": [
      "[0, 0, 0]\n",
      "[0, 0, 0]\n",
      "[0, 0, 0]\n",
      "[0, 0, 0]\n",
      "[0, 0, 0]\n",
      "[0, 0, 0]\n",
      "[0, 0, 0]\n",
      "[0, 0, 0]\n",
      "[0, 0, 0]\n",
      "[0, 0, 0]\n",
      "[0, 0, 0]\n",
      "[0, 0, 0]\n",
      "[0, 0, 0]\n",
      "[0, 0, 0]\n",
      "[0, 0, 0]\n",
      "[0, 0, 0]\n"
     ]
    }
   ],
   "source": [
    "for i in range(16):\n",
    "    print(mvmult(H, encode(G,bitvect(4,i))))"
   ]
  },
  {
   "cell_type": "markdown",
   "metadata": {},
   "source": [
    "ถ้าเรานิยามฟังก์ชัน $h(x): GF(2)^7\\rightarrow GF(2)^3$ ดังนี้ $h(x)=Hx$  เราจะได้ว่า $h$ map ทุก ๆ codeword ไปยัง 0  ดังนั้นจากการทดลองข้างต้น เราทราบว่า $C\\subset \\mathsf{Ker}\\; h$  \n",
    "\n",
    "ยิ่งไปกว่านั้น อีกคุณสมบัติที่สำคัญก็คือ $C$ ไม่ใช่เป็น subset ของ $\\mathsf{Ker}\\; h$  แต่ $C=\\mathsf{Ker}\\; h$ (ขอละไม่พิสูจน์)\n",
    "\n",
    "**ชวนคิด:** การที่ $C=\\mathsf{Ker}\\; h$ มีผลอย่างไรต่อการตรวจสอบความถูกต้องของข้อมูล\n",
    "\n",
    "ด้านล่างให้ทดลองสร้าง codeword จากนั้นลองแก้บางบิตของ codeword ให้เป็นเวกเตอร์ $y$ แล้วหา $h(y)$"
   ]
  },
  {
   "cell_type": "code",
   "execution_count": null,
   "metadata": {},
   "outputs": [],
   "source": [
    "# message ตั้งต้น\n",
    "mx = [1,0,1,0] \n",
    "x = encode(G,mx)\n",
    "print(\"x =\", x)"
   ]
  },
  {
   "cell_type": "code",
   "execution_count": null,
   "metadata": {},
   "outputs": [],
   "source": [
    "# look at x below and write y to be that codeword with 1 bit change\n",
    "y = [1, 0, 0, 0, 1, 0, 1]\n",
    "print(\"y =\",y)\n",
    "print(\"sindrome =\", mvmult(H,y))"
   ]
  },
  {
   "cell_type": "markdown",
   "metadata": {},
   "source": [
    "**>>> คำถาม 4:** \n",
    "\n",
    "1. ทดลองเปลี่ยนบิตที่ผิดไปหลาย ๆ ที่ สังเกตเห็นลักษณะพิเศษของผลลัพธ์ $h(y)$ หรือไม่?\n",
    "2. ถ้าต้องการแก้ไข x ให้ผิดพลาดมากกว่า 1 ตำแหน่ง ต้องแก้อย่างน้อยกี่ตำแหน่งจึงจะทำให้ $h(y)=0$"
   ]
  }
 ],
 "metadata": {
  "kernelspec": {
   "display_name": "Python 3",
   "language": "python",
   "name": "python3"
  },
  "language_info": {
   "codemirror_mode": {
    "name": "ipython",
    "version": 3
   },
   "file_extension": ".py",
   "mimetype": "text/x-python",
   "name": "python",
   "nbconvert_exporter": "python",
   "pygments_lexer": "ipython3",
   "version": "3.6.5"
  }
 },
 "nbformat": 4,
 "nbformat_minor": 2
}
